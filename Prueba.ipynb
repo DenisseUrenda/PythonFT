{
 "cells": [
  {
   "attachments": {},
   "cell_type": "markdown",
   "metadata": {},
   "source": [
    "# Mi primer `commit` desde VSCode\n",
    "\n",
    "## Cadenas (strings)\n",
    "\n",
    "Las cadenas o strings son un conjunto de caracteres rodeados por comillas simples o dobles"
   ]
  },
  {
   "cell_type": "code",
   "execution_count": 3,
   "metadata": {},
   "outputs": [
    {
     "name": "stdout",
     "output_type": "stream",
     "text": [
      "Hola, mundo\n",
      "Hola, mundo\n"
     ]
    }
   ],
   "source": [
    "print(\"Hola, mundo\")\n",
    "print('Hola, mundo')"
   ]
  },
  {
   "attachments": {},
   "cell_type": "markdown",
   "metadata": {},
   "source": [
    "Podemos almacenar una cadena en una variable e imprimarla posteriormente"
   ]
  },
  {
   "cell_type": "code",
   "execution_count": 4,
   "metadata": {},
   "outputs": [
    {
     "name": "stdout",
     "output_type": "stream",
     "text": [
      "Hola, mundo!\n"
     ]
    }
   ],
   "source": [
    "saludo = \"Hola, mundo!\"\n",
    "print(saludo)"
   ]
  },
  {
   "attachments": {},
   "cell_type": "markdown",
   "metadata": {},
   "source": [
    "También podemos concatenar cadenas usando el símbolo +"
   ]
  },
  {
   "cell_type": "code",
   "execution_count": 6,
   "metadata": {},
   "outputs": [
    {
     "name": "stdout",
     "output_type": "stream",
     "text": [
      "DenisseUrenda\n",
      "Denisse Urenda\n"
     ]
    }
   ],
   "source": [
    "nombre = \"Denisse\"\n",
    "apellido = \"Urenda\"\n",
    "print(nombre + apellido)\n",
    "print(nombre + \" \" + apellido)"
   ]
  },
  {
   "attachments": {},
   "cell_type": "markdown",
   "metadata": {},
   "source": [
    "Podemos darle formato a las cadenas con el método `.format`"
   ]
  },
  {
   "cell_type": "code",
   "execution_count": 7,
   "metadata": {},
   "outputs": [
    {
     "name": "stdout",
     "output_type": "stream",
     "text": [
      "Mi nombre es Denisse y mi primer apellido es Urenda.\n"
     ]
    }
   ],
   "source": [
    "mensaje = \"Mi nombre es {} y mi primer apellido es {}.\"\n",
    "print(mensaje.format(nombre, apellido))"
   ]
  },
  {
   "attachments": {},
   "cell_type": "markdown",
   "metadata": {},
   "source": [
    "O con lo que se conoce como *fstring*"
   ]
  },
  {
   "cell_type": "code",
   "execution_count": 8,
   "metadata": {},
   "outputs": [
    {
     "name": "stdout",
     "output_type": "stream",
     "text": [
      "Mi nombre es Denisse y mi primer apellido es Urenda\n"
     ]
    }
   ],
   "source": [
    "mensaje2 = f\"Mi nombre es {nombre} y mi primer apellido es {apellido}.\"\n",
    "print(mensaje2)"
   ]
  }
 ],
 "metadata": {
  "kernelspec": {
   "display_name": "Python 3",
   "language": "python",
   "name": "python3"
  },
  "language_info": {
   "codemirror_mode": {
    "name": "ipython",
    "version": 3
   },
   "file_extension": ".py",
   "mimetype": "text/x-python",
   "name": "python",
   "nbconvert_exporter": "python",
   "pygments_lexer": "ipython3",
   "version": "3.9.13"
  },
  "orig_nbformat": 4
 },
 "nbformat": 4,
 "nbformat_minor": 2
}
